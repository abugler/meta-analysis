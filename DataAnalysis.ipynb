{
 "metadata": {
  "language_info": {
   "codemirror_mode": {
    "name": "ipython",
    "version": 3
   },
   "file_extension": ".py",
   "mimetype": "text/x-python",
   "name": "python",
   "nbconvert_exporter": "python",
   "pygments_lexer": "ipython3",
   "version": "3.7.8-final"
  },
  "orig_nbformat": 2,
  "kernelspec": {
   "name": "python3",
   "display_name": "Python 3",
   "language": "python"
  }
 },
 "nbformat": 4,
 "nbformat_minor": 2,
 "cells": [
  {
   "source": [
    "## Goal: Extract information about the results of each model."
   ],
   "cell_type": "markdown",
   "metadata": {}
  },
  {
   "source": [
    "As different state-of-the-art source separation systems use different methods of recording metrics, we define our own way of calculating it:\n",
    "\n",
    "1. First we segment each song in the MUSDB18 test set into 8 second chunks, where the start of each chunk is 4 seconds from the previous one. We throw out any chunks that do not have sound in all sources.\n",
    "\n",
    "2. We input the mix of each chunk into the deep model, and measure the metrics.\n",
    "\n",
    "3. To calculate mean, median, and standard deviation, we find the mean, median, and standard deviation across all tracks. We refer to mean, median, and standard deviation to be summary statistics.\n",
    "\n",
    "4. To calculate summary statistics of a specific source, we only consider the metrics collected for said source. To calculate summary statistics across all sources, we aggregate the metrics for each chunk by finding the mean across all sources, then we calculate the summary statistic over each mean.\n",
    "\n",
    "This method of calculating metrics was concieved before calculating summary statistics of any model, and no intentional bias exists toward any model, which may not be the case for evaluation methods in other papers. "
   ],
   "cell_type": "markdown",
   "metadata": {}
  },
  {
   "cell_type": "code",
   "execution_count": 20,
   "metadata": {},
   "outputs": [],
   "source": [
    "import pandas as pd\n",
    "import seaborn as sns\n",
    "from IPython.display import display\n",
    "sns.set_theme()\n",
    " \n",
    "# Define helper functions\n",
    "# Load a CSV with pd.read_csv(path)\n",
    "def split_into_sources(df):\n",
    "    \"\"\"\n",
    "    Returns a dictionary of dataframes\n",
    "    \"\"\"\n",
    "    groups = df.groupby(by=\"source\")\n",
    "    return {name: g_df for name, g_df in groups}\n",
    "\n",
    "def calculate_sum_stats(df):\n",
    "    \"\"\"\n",
    "    Returns a pandas.DataFrame, where each row is a metric,\n",
    "    and the columns are 'mean', 'median', 'std dev' respectively.\n",
    "    \"\"\"\n",
    "    metrics = []\n",
    "    data = []\n",
    "    for col in df:\n",
    "        if col in [\"source\", \"file\", \"Unnamed: 0\"]:\n",
    "            continue\n",
    "        metrics.append(col)\n",
    "        data.append(\n",
    "            {\n",
    "                'mean': df[col].mean(),\n",
    "                'median': df[col].median(),\n",
    "                'std dev': df[col].std()\n",
    "            }\n",
    "        )\n",
    "    return pd.DataFrame(\n",
    "        data=data, index=metrics\n",
    "    )\n",
    "\n",
    "def aggreggate_sources(df_dict):\n",
    "    \"\"\"\n",
    "    Takes a dictionary of dataframes, and find the mean\n",
    "    for each track's metrics across sources.\n",
    "\n",
    "    Returns a new dataframe containing the mean of each file.\n",
    "    \"\"\"\n",
    "    \n",
    "    df_concat = pd.concat(df_dict.values())\n",
    "    by_file = df_concat.groupby(by=\"file\")\n",
    "    df_all = by_file.mean()\n",
    "    return df_all\n",
    "    \n"
   ]
  },
  {
   "cell_type": "code",
   "execution_count": 21,
   "metadata": {},
   "outputs": [],
   "source": [
    "# Gathering data\n",
    "raw_data = {}\n",
    "raw_data[\"OpenUnmix\"] = pd.read_csv(\"results/OpenUnmix/MUSDB18Segmented/aggreggate.csv\")\n",
    "raw_data[\"Demucs\"] = pd.read_csv(\"results/Demucs/MUSDB18Segmented/aggreggate.csv\")\n",
    "raw_data[\"ConvTasNet\"] = pd.read_csv(\"results/ConvTasNet/MUSDB18Segmented/aggreggate.csv\")\n",
    "raw_data[\"Wave-U-Net\"] = pd.read_csv(\"results/Wave-U-Net/MUSDB18Segmented/aggreggate.csv\")\n",
    "raw_source_data = {}\n",
    "for name, df in raw_data.items():\n",
    "    raw_source_data[name] = split_into_sources(df)\n",
    "\n",
    "def summary_stats_sources(df_dict):\n",
    "    sum_dict = {}\n",
    "    for name, df in df_dict.items():\n",
    "        sum_dict[name] = calculate_sum_stats(df)\n",
    "    return sum_dict\n",
    "\n",
    "summary_source_data = {}\n",
    "for name, dict_df in raw_source_data.items():\n",
    "    summary_source_data[name] = summary_stats_sources(dict_df)\n",
    "\n",
    "raw_aggreggate_data = {}\n",
    "for name, dict_df in raw_source_data.items():\n",
    "    raw_aggreggate_data[name] = aggreggate_sources(dict_df)\n",
    "\n",
    "summary_aggreggate_data = {}\n",
    "for name, df in raw_aggreggate_data.items():\n",
    "    summary_aggreggate_data[name] = calculate_sum_stats(df)\n"
   ]
  },
  {
   "source": [
    "## SDR, SI-SDR, and SI-SDRi of each model\n",
    "First considering all sources, then source by source."
   ],
   "cell_type": "markdown",
   "metadata": {}
  },
  {
   "cell_type": "code",
   "execution_count": 22,
   "metadata": {},
   "outputs": [
    {
     "output_type": "display_data",
     "data": {
      "text/plain": "'OpenUnmix'"
     },
     "metadata": {}
    },
    {
     "output_type": "display_data",
     "data": {
      "text/plain": "             mean    median   std dev\nSDR      4.977359  5.321072  2.854907\nSI-SDR   2.987725  3.593923  3.783498\nSI-SDRi  8.786142  9.034659  2.929187",
      "text/html": "<div>\n<style scoped>\n    .dataframe tbody tr th:only-of-type {\n        vertical-align: middle;\n    }\n\n    .dataframe tbody tr th {\n        vertical-align: top;\n    }\n\n    .dataframe thead th {\n        text-align: right;\n    }\n</style>\n<table border=\"1\" class=\"dataframe\">\n  <thead>\n    <tr style=\"text-align: right;\">\n      <th></th>\n      <th>mean</th>\n      <th>median</th>\n      <th>std dev</th>\n    </tr>\n  </thead>\n  <tbody>\n    <tr>\n      <th>SDR</th>\n      <td>4.977359</td>\n      <td>5.321072</td>\n      <td>2.854907</td>\n    </tr>\n    <tr>\n      <th>SI-SDR</th>\n      <td>2.987725</td>\n      <td>3.593923</td>\n      <td>3.783498</td>\n    </tr>\n    <tr>\n      <th>SI-SDRi</th>\n      <td>8.786142</td>\n      <td>9.034659</td>\n      <td>2.929187</td>\n    </tr>\n  </tbody>\n</table>\n</div>"
     },
     "metadata": {}
    },
    {
     "output_type": "display_data",
     "data": {
      "text/plain": "'Demucs'"
     },
     "metadata": {}
    },
    {
     "output_type": "display_data",
     "data": {
      "text/plain": "             mean     median   std dev\nSDR      5.739507   6.110004  2.903982\nSI-SDR   4.176797   4.719269  3.445082\nSI-SDRi  9.975013  10.213875  2.721571",
      "text/html": "<div>\n<style scoped>\n    .dataframe tbody tr th:only-of-type {\n        vertical-align: middle;\n    }\n\n    .dataframe tbody tr th {\n        vertical-align: top;\n    }\n\n    .dataframe thead th {\n        text-align: right;\n    }\n</style>\n<table border=\"1\" class=\"dataframe\">\n  <thead>\n    <tr style=\"text-align: right;\">\n      <th></th>\n      <th>mean</th>\n      <th>median</th>\n      <th>std dev</th>\n    </tr>\n  </thead>\n  <tbody>\n    <tr>\n      <th>SDR</th>\n      <td>5.739507</td>\n      <td>6.110004</td>\n      <td>2.903982</td>\n    </tr>\n    <tr>\n      <th>SI-SDR</th>\n      <td>4.176797</td>\n      <td>4.719269</td>\n      <td>3.445082</td>\n    </tr>\n    <tr>\n      <th>SI-SDRi</th>\n      <td>9.975013</td>\n      <td>10.213875</td>\n      <td>2.721571</td>\n    </tr>\n  </tbody>\n</table>\n</div>"
     },
     "metadata": {}
    },
    {
     "output_type": "display_data",
     "data": {
      "text/plain": "'ConvTasNet'"
     },
     "metadata": {}
    },
    {
     "output_type": "display_data",
     "data": {
      "text/plain": "              mean     median   std dev\nSDR       6.113055   6.327604  2.670364\nSI-SDR    4.252788   5.023714  4.191960\nSI-SDRi  10.051004  10.513436  3.274007",
      "text/html": "<div>\n<style scoped>\n    .dataframe tbody tr th:only-of-type {\n        vertical-align: middle;\n    }\n\n    .dataframe tbody tr th {\n        vertical-align: top;\n    }\n\n    .dataframe thead th {\n        text-align: right;\n    }\n</style>\n<table border=\"1\" class=\"dataframe\">\n  <thead>\n    <tr style=\"text-align: right;\">\n      <th></th>\n      <th>mean</th>\n      <th>median</th>\n      <th>std dev</th>\n    </tr>\n  </thead>\n  <tbody>\n    <tr>\n      <th>SDR</th>\n      <td>6.113055</td>\n      <td>6.327604</td>\n      <td>2.670364</td>\n    </tr>\n    <tr>\n      <th>SI-SDR</th>\n      <td>4.252788</td>\n      <td>5.023714</td>\n      <td>4.191960</td>\n    </tr>\n    <tr>\n      <th>SI-SDRi</th>\n      <td>10.051004</td>\n      <td>10.513436</td>\n      <td>3.274007</td>\n    </tr>\n  </tbody>\n</table>\n</div>"
     },
     "metadata": {}
    },
    {
     "output_type": "display_data",
     "data": {
      "text/plain": "'Wave-U-Net'"
     },
     "metadata": {}
    },
    {
     "output_type": "display_data",
     "data": {
      "text/plain": "             mean    median   std dev\nSDR      3.127092  3.428261  2.402484\nSI-SDR   0.152212  0.676990  3.159529\nSI-SDRi  5.950428  6.134531  2.274347",
      "text/html": "<div>\n<style scoped>\n    .dataframe tbody tr th:only-of-type {\n        vertical-align: middle;\n    }\n\n    .dataframe tbody tr th {\n        vertical-align: top;\n    }\n\n    .dataframe thead th {\n        text-align: right;\n    }\n</style>\n<table border=\"1\" class=\"dataframe\">\n  <thead>\n    <tr style=\"text-align: right;\">\n      <th></th>\n      <th>mean</th>\n      <th>median</th>\n      <th>std dev</th>\n    </tr>\n  </thead>\n  <tbody>\n    <tr>\n      <th>SDR</th>\n      <td>3.127092</td>\n      <td>3.428261</td>\n      <td>2.402484</td>\n    </tr>\n    <tr>\n      <th>SI-SDR</th>\n      <td>0.152212</td>\n      <td>0.676990</td>\n      <td>3.159529</td>\n    </tr>\n    <tr>\n      <th>SI-SDRi</th>\n      <td>5.950428</td>\n      <td>6.134531</td>\n      <td>2.274347</td>\n    </tr>\n  </tbody>\n</table>\n</div>"
     },
     "metadata": {}
    }
   ],
   "source": [
    "for name, df in summary_aggreggate_data.items():\n",
    "    display(name)\n",
    "    display(df.loc[[\"SDR\", \"SI-SDR\", \"SI-SDRi\"]])"
   ]
  },
  {
   "source": [
    "Observations: If you rank these algorithms by any combination of {mean, median} and {SDR, SI-SDR, and SI-SDRi},\n",
    "you will get the ranking 'CONV-TASNET', DEMUCS', 'OPEN_UNMIX', and 'WAVE-U-NET'. This suggests, in the contexts of ranking algorithms by SDR, SI-SDR and SI-SDRi are just as good."
   ],
   "cell_type": "markdown",
   "metadata": {}
  },
  {
   "source": [
    "## "
   ],
   "cell_type": "markdown",
   "metadata": {}
  }
 ]
}