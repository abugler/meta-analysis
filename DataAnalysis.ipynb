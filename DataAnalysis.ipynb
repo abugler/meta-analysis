{
 "metadata": {
  "language_info": {
   "codemirror_mode": {
    "name": "ipython",
    "version": 3
   },
   "file_extension": ".py",
   "mimetype": "text/x-python",
   "name": "python",
   "nbconvert_exporter": "python",
   "pygments_lexer": "ipython3",
   "version": "3.7.8-final"
  },
  "orig_nbformat": 2,
  "kernelspec": {
   "name": "python3",
   "display_name": "Python 3",
   "language": "python"
  }
 },
 "nbformat": 4,
 "nbformat_minor": 2,
 "cells": [
  {
   "source": [
    "## Goal: Extract information about the results of each model."
   ],
   "cell_type": "markdown",
   "metadata": {}
  },
  {
   "source": [
    "As different state-of-the-art source separation systems use different methods of recording metrics, we define our own way of calculating it on the MUSDB18 dataset:\n",
    "\n",
    "1. For each song in the MUSDB18 dataset, create overlapping 8 second chunks, where the first chunk of each song is at 0 seconds, and each subsequent chunk starts 4 seconds after the previous one.\n",
    "\n",
    "2. Remove chunks that do not have adaquate sound for all sources. For each song, this is done by finding the chunk with the maximum power in each source, which we call the reference chunk, and removing all chunks with power less than 8 db than the reference chunk.\n",
    "\n",
    "3. Separate the mix in each chunk using the desired model. Record metrics. \n",
    "\n",
    "4. Summary statistics are mean, median, and standard deviation. To calculate the summary statistics of a metric for one source, we calculate the statistic over the recorded metric over all chunks. To calculate the summary statistics of a metric over all sources, we first find the mean metric for all sources in each chunk, then we calculate the summary statistics over these means. \n",
    "\n",
    "This method of calculating metrics was concieved before calculating summary statistics of any model, and no intentional bias exists toward any model, which may not be the case for evaluation methods in other papers. "
   ],
   "cell_type": "markdown",
   "metadata": {}
  },
  {
   "cell_type": "code",
   "execution_count": 20,
   "metadata": {},
   "outputs": [],
   "source": [
    "import pandas as pd\n",
    "import seaborn as sns\n",
    "from IPython.display import display\n",
    "sns.set_theme()\n",
    " \n",
    "# Define helper functions\n",
    "# Load a CSV with pd.read_csv(path)\n",
    "def split_into_sources(df):\n",
    "    \"\"\"\n",
    "    Returns a dictionary of dataframes\n",
    "    \"\"\"\n",
    "    groups = df.groupby(by=\"source\")\n",
    "    return {name: g_df for name, g_df in groups}\n",
    "\n",
    "def calculate_sum_stats(df):\n",
    "    \"\"\"\n",
    "    Returns a pandas.DataFrame, where each row is a metric,\n",
    "    and the columns are 'mean', 'median', 'std dev' respectively.\n",
    "    \"\"\"\n",
    "    metrics = []\n",
    "    data = []\n",
    "    for col in df:\n",
    "        if col in [\"source\", \"file\", \"Unnamed: 0\"]:\n",
    "            continue\n",
    "        metrics.append(col)\n",
    "        data.append(\n",
    "            {\n",
    "                'mean': df[col].mean(),\n",
    "                'median': df[col].median(),\n",
    "                'std dev': df[col].std()\n",
    "            }\n",
    "        )\n",
    "    return pd.DataFrame(\n",
    "        data=data, index=metrics\n",
    "    )\n",
    "\n",
    "def aggreggate_sources(df_dict):\n",
    "    \"\"\"\n",
    "    Takes a dictionary of dataframes, and find the mean\n",
    "    for each track's metrics across sources.\n",
    "\n",
    "    Returns a new dataframe containing the mean of each file.\n",
    "    \"\"\"\n",
    "    \n",
    "    df_concat = pd.concat(df_dict.values())\n",
    "    by_file = df_concat.groupby(by=\"file\")\n",
    "    df_all = by_file.mean()\n",
    "    return df_all\n",
    "    \n"
   ]
  },
  {
   "cell_type": "code",
   "execution_count": 21,
   "metadata": {},
   "outputs": [],
   "source": [
    "# Gathering data\n",
    "raw_data = {}\n",
    "# To add new models, only a single line here must be added\n",
    "raw_data[\"OpenUnmix\"] = pd.read_csv(\"results/OpenUnmix/MUSDB18Segmented/aggreggate.csv\")\n",
    "raw_data[\"Demucs\"] = pd.read_csv(\"results/Demucs/MUSDB18Segmented/aggreggate.csv\")\n",
    "raw_data[\"ConvTasNet\"] = pd.read_csv(\"results/ConvTasNet/MUSDB18Segmented/aggreggate.csv\")\n",
    "raw_data[\"Wave-U-Net\"] = pd.read_csv(\"results/Wave-U-Net/MUSDB18Segmented/aggreggate.csv\")\n",
    "raw_source_data = {}\n",
    "for name, df in raw_data.items():\n",
    "    raw_source_data[name] = split_into_sources(df)\n",
    "\n",
    "def summary_stats_sources(df_dict):\n",
    "    sum_dict = {}\n",
    "    for name, df in df_dict.items():\n",
    "        sum_dict[name] = calculate_sum_stats(df)\n",
    "    return sum_dict\n",
    "\n",
    "summary_source_data = {}\n",
    "for name, dict_df in raw_source_data.items():\n",
    "    summary_source_data[name] = summary_stats_sources(dict_df)\n",
    "\n",
    "raw_aggreggate_data = {}\n",
    "for name, dict_df in raw_source_data.items():\n",
    "    raw_aggreggate_data[name] = aggreggate_sources(dict_df)\n",
    "\n",
    "summary_aggreggate_data = {}\n",
    "for name, df in raw_aggreggate_data.items():\n",
    "    summary_aggreggate_data[name] = calculate_sum_stats(df)\n"
   ]
  },
  {
   "source": [
    "## SDR, SI-SDR, and SI-SDRi of each model\n",
    "First considering all sources, then source by source."
   ],
   "cell_type": "markdown",
   "metadata": {}
  },
  {
   "cell_type": "code",
   "execution_count": 22,
   "metadata": {},
   "outputs": [
    {
     "output_type": "display_data",
     "data": {
      "text/plain": "'OpenUnmix'"
     },
     "metadata": {}
    },
    {
     "output_type": "display_data",
     "data": {
      "text/plain": "             mean    median   std dev\nSDR      4.977359  5.321072  2.854907\nSI-SDR   2.987725  3.593923  3.783498\nSI-SDRi  8.786142  9.034659  2.929187",
      "text/html": "<div>\n<style scoped>\n    .dataframe tbody tr th:only-of-type {\n        vertical-align: middle;\n    }\n\n    .dataframe tbody tr th {\n        vertical-align: top;\n    }\n\n    .dataframe thead th {\n        text-align: right;\n    }\n</style>\n<table border=\"1\" class=\"dataframe\">\n  <thead>\n    <tr style=\"text-align: right;\">\n      <th></th>\n      <th>mean</th>\n      <th>median</th>\n      <th>std dev</th>\n    </tr>\n  </thead>\n  <tbody>\n    <tr>\n      <th>SDR</th>\n      <td>4.977359</td>\n      <td>5.321072</td>\n      <td>2.854907</td>\n    </tr>\n    <tr>\n      <th>SI-SDR</th>\n      <td>2.987725</td>\n      <td>3.593923</td>\n      <td>3.783498</td>\n    </tr>\n    <tr>\n      <th>SI-SDRi</th>\n      <td>8.786142</td>\n      <td>9.034659</td>\n      <td>2.929187</td>\n    </tr>\n  </tbody>\n</table>\n</div>"
     },
     "metadata": {}
    },
    {
     "output_type": "display_data",
     "data": {
      "text/plain": "'Demucs'"
     },
     "metadata": {}
    },
    {
     "output_type": "display_data",
     "data": {
      "text/plain": "             mean     median   std dev\nSDR      5.739507   6.110004  2.903982\nSI-SDR   4.176797   4.719269  3.445082\nSI-SDRi  9.975013  10.213875  2.721571",
      "text/html": "<div>\n<style scoped>\n    .dataframe tbody tr th:only-of-type {\n        vertical-align: middle;\n    }\n\n    .dataframe tbody tr th {\n        vertical-align: top;\n    }\n\n    .dataframe thead th {\n        text-align: right;\n    }\n</style>\n<table border=\"1\" class=\"dataframe\">\n  <thead>\n    <tr style=\"text-align: right;\">\n      <th></th>\n      <th>mean</th>\n      <th>median</th>\n      <th>std dev</th>\n    </tr>\n  </thead>\n  <tbody>\n    <tr>\n      <th>SDR</th>\n      <td>5.739507</td>\n      <td>6.110004</td>\n      <td>2.903982</td>\n    </tr>\n    <tr>\n      <th>SI-SDR</th>\n      <td>4.176797</td>\n      <td>4.719269</td>\n      <td>3.445082</td>\n    </tr>\n    <tr>\n      <th>SI-SDRi</th>\n      <td>9.975013</td>\n      <td>10.213875</td>\n      <td>2.721571</td>\n    </tr>\n  </tbody>\n</table>\n</div>"
     },
     "metadata": {}
    },
    {
     "output_type": "display_data",
     "data": {
      "text/plain": "'ConvTasNet'"
     },
     "metadata": {}
    },
    {
     "output_type": "display_data",
     "data": {
      "text/plain": "              mean     median   std dev\nSDR       6.113055   6.327604  2.670364\nSI-SDR    4.252788   5.023714  4.191960\nSI-SDRi  10.051004  10.513436  3.274007",
      "text/html": "<div>\n<style scoped>\n    .dataframe tbody tr th:only-of-type {\n        vertical-align: middle;\n    }\n\n    .dataframe tbody tr th {\n        vertical-align: top;\n    }\n\n    .dataframe thead th {\n        text-align: right;\n    }\n</style>\n<table border=\"1\" class=\"dataframe\">\n  <thead>\n    <tr style=\"text-align: right;\">\n      <th></th>\n      <th>mean</th>\n      <th>median</th>\n      <th>std dev</th>\n    </tr>\n  </thead>\n  <tbody>\n    <tr>\n      <th>SDR</th>\n      <td>6.113055</td>\n      <td>6.327604</td>\n      <td>2.670364</td>\n    </tr>\n    <tr>\n      <th>SI-SDR</th>\n      <td>4.252788</td>\n      <td>5.023714</td>\n      <td>4.191960</td>\n    </tr>\n    <tr>\n      <th>SI-SDRi</th>\n      <td>10.051004</td>\n      <td>10.513436</td>\n      <td>3.274007</td>\n    </tr>\n  </tbody>\n</table>\n</div>"
     },
     "metadata": {}
    },
    {
     "output_type": "display_data",
     "data": {
      "text/plain": "'Wave-U-Net'"
     },
     "metadata": {}
    },
    {
     "output_type": "display_data",
     "data": {
      "text/plain": "             mean    median   std dev\nSDR      3.127092  3.428261  2.402484\nSI-SDR   0.152212  0.676990  3.159529\nSI-SDRi  5.950428  6.134531  2.274347",
      "text/html": "<div>\n<style scoped>\n    .dataframe tbody tr th:only-of-type {\n        vertical-align: middle;\n    }\n\n    .dataframe tbody tr th {\n        vertical-align: top;\n    }\n\n    .dataframe thead th {\n        text-align: right;\n    }\n</style>\n<table border=\"1\" class=\"dataframe\">\n  <thead>\n    <tr style=\"text-align: right;\">\n      <th></th>\n      <th>mean</th>\n      <th>median</th>\n      <th>std dev</th>\n    </tr>\n  </thead>\n  <tbody>\n    <tr>\n      <th>SDR</th>\n      <td>3.127092</td>\n      <td>3.428261</td>\n      <td>2.402484</td>\n    </tr>\n    <tr>\n      <th>SI-SDR</th>\n      <td>0.152212</td>\n      <td>0.676990</td>\n      <td>3.159529</td>\n    </tr>\n    <tr>\n      <th>SI-SDRi</th>\n      <td>5.950428</td>\n      <td>6.134531</td>\n      <td>2.274347</td>\n    </tr>\n  </tbody>\n</table>\n</div>"
     },
     "metadata": {}
    }
   ],
   "source": [
    "for name, df in summary_aggreggate_data.items():\n",
    "    display(name)\n",
    "    display(df.loc[[\"SDR\", \"SI-SDR\", \"SI-SDRi\"]])"
   ]
  },
  {
   "source": [
    "Observations: \n",
    "+ If you rank these algorithms by any combination of {mean, median} and {SDR, SI-SDR, and SI-SDRi},\n",
    "you will get the ranking 'CONV-TASNET', DEMUCS', 'OPEN_UNMIX', and 'WAVE-U-NET'. This suggests, in the contexts of ranking algorithms by SDR, SI-SDR and SI-SDRi are just as good. \n",
    "+ Note how ConvTasNet has a higher std dev SI-SDR than Demucs, while Demucs has a higher std dev for SDR than ConvTasNet. This could mean nothing, but it could also be a sign about outliers in the data, and how SDR and SI-SDR handle scale."
   ],
   "cell_type": "markdown",
   "metadata": {}
  },
  {
   "cell_type": "code",
   "execution_count": 28,
   "metadata": {},
   "outputs": [
    {
     "output_type": "display_data",
     "data": {
      "text/plain": "'OpenUnmix'"
     },
     "metadata": {}
    },
    {
     "output_type": "display_data",
     "data": {
      "text/plain": "                      mean     median   std dev\nbass: SDR         4.600220   5.039939  6.152940\nbass: SI-SDR      2.477880   3.514696  7.645522\nbass: SI-SDRi     9.477115  10.082160  5.250655\ndrums: SDR        5.889356   5.958959  4.157600\ndrums: SI-SDR     4.351930   4.705449  4.898521\ndrums: SI-SDRi    9.061415   9.441004  3.896217\nother: SDR        3.735364   3.837369  2.831660\nother: SI-SDR     0.744644   1.763143  5.416857\nother: SI-SDRi    6.266366   6.554414  5.055254\nvocals: SDR       5.684497   6.551987  6.366212\nvocals: SI-SDR    4.376445   5.863696  8.980652\nvocals: SI-SDRi  10.339674  10.957337  5.723216",
      "text/html": "<div>\n<style scoped>\n    .dataframe tbody tr th:only-of-type {\n        vertical-align: middle;\n    }\n\n    .dataframe tbody tr th {\n        vertical-align: top;\n    }\n\n    .dataframe thead th {\n        text-align: right;\n    }\n</style>\n<table border=\"1\" class=\"dataframe\">\n  <thead>\n    <tr style=\"text-align: right;\">\n      <th></th>\n      <th>mean</th>\n      <th>median</th>\n      <th>std dev</th>\n    </tr>\n  </thead>\n  <tbody>\n    <tr>\n      <th>bass: SDR</th>\n      <td>4.600220</td>\n      <td>5.039939</td>\n      <td>6.152940</td>\n    </tr>\n    <tr>\n      <th>bass: SI-SDR</th>\n      <td>2.477880</td>\n      <td>3.514696</td>\n      <td>7.645522</td>\n    </tr>\n    <tr>\n      <th>bass: SI-SDRi</th>\n      <td>9.477115</td>\n      <td>10.082160</td>\n      <td>5.250655</td>\n    </tr>\n    <tr>\n      <th>drums: SDR</th>\n      <td>5.889356</td>\n      <td>5.958959</td>\n      <td>4.157600</td>\n    </tr>\n    <tr>\n      <th>drums: SI-SDR</th>\n      <td>4.351930</td>\n      <td>4.705449</td>\n      <td>4.898521</td>\n    </tr>\n    <tr>\n      <th>drums: SI-SDRi</th>\n      <td>9.061415</td>\n      <td>9.441004</td>\n      <td>3.896217</td>\n    </tr>\n    <tr>\n      <th>other: SDR</th>\n      <td>3.735364</td>\n      <td>3.837369</td>\n      <td>2.831660</td>\n    </tr>\n    <tr>\n      <th>other: SI-SDR</th>\n      <td>0.744644</td>\n      <td>1.763143</td>\n      <td>5.416857</td>\n    </tr>\n    <tr>\n      <th>other: SI-SDRi</th>\n      <td>6.266366</td>\n      <td>6.554414</td>\n      <td>5.055254</td>\n    </tr>\n    <tr>\n      <th>vocals: SDR</th>\n      <td>5.684497</td>\n      <td>6.551987</td>\n      <td>6.366212</td>\n    </tr>\n    <tr>\n      <th>vocals: SI-SDR</th>\n      <td>4.376445</td>\n      <td>5.863696</td>\n      <td>8.980652</td>\n    </tr>\n    <tr>\n      <th>vocals: SI-SDRi</th>\n      <td>10.339674</td>\n      <td>10.957337</td>\n      <td>5.723216</td>\n    </tr>\n  </tbody>\n</table>\n</div>"
     },
     "metadata": {}
    },
    {
     "output_type": "display_data",
     "data": {
      "text/plain": "'Demucs'"
     },
     "metadata": {}
    },
    {
     "output_type": "display_data",
     "data": {
      "text/plain": "                      mean     median   std dev\nbass: SDR         5.838194   6.333488  6.404391\nbass: SI-SDR      4.314169   5.268259  7.160211\nbass: SI-SDRi    11.317342  11.715631  4.770529\ndrums: SDR        7.070687   6.994881  4.228774\ndrums: SI-SDR     6.088535   6.103106  4.374326\ndrums: SI-SDRi   10.799997  11.067704  3.456550\nother: SDR        3.973712   4.130461  3.420524\nother: SI-SDR     1.656913   2.227863  4.426160\nother: SI-SDRi    7.174239   7.324543  4.270892\nvocals: SDR       6.075435   6.836668  5.958214\nvocals: SI-SDR    4.647570   6.200620  8.634317\nvocals: SI-SDRi  10.608473  11.030428  5.400393",
      "text/html": "<div>\n<style scoped>\n    .dataframe tbody tr th:only-of-type {\n        vertical-align: middle;\n    }\n\n    .dataframe tbody tr th {\n        vertical-align: top;\n    }\n\n    .dataframe thead th {\n        text-align: right;\n    }\n</style>\n<table border=\"1\" class=\"dataframe\">\n  <thead>\n    <tr style=\"text-align: right;\">\n      <th></th>\n      <th>mean</th>\n      <th>median</th>\n      <th>std dev</th>\n    </tr>\n  </thead>\n  <tbody>\n    <tr>\n      <th>bass: SDR</th>\n      <td>5.838194</td>\n      <td>6.333488</td>\n      <td>6.404391</td>\n    </tr>\n    <tr>\n      <th>bass: SI-SDR</th>\n      <td>4.314169</td>\n      <td>5.268259</td>\n      <td>7.160211</td>\n    </tr>\n    <tr>\n      <th>bass: SI-SDRi</th>\n      <td>11.317342</td>\n      <td>11.715631</td>\n      <td>4.770529</td>\n    </tr>\n    <tr>\n      <th>drums: SDR</th>\n      <td>7.070687</td>\n      <td>6.994881</td>\n      <td>4.228774</td>\n    </tr>\n    <tr>\n      <th>drums: SI-SDR</th>\n      <td>6.088535</td>\n      <td>6.103106</td>\n      <td>4.374326</td>\n    </tr>\n    <tr>\n      <th>drums: SI-SDRi</th>\n      <td>10.799997</td>\n      <td>11.067704</td>\n      <td>3.456550</td>\n    </tr>\n    <tr>\n      <th>other: SDR</th>\n      <td>3.973712</td>\n      <td>4.130461</td>\n      <td>3.420524</td>\n    </tr>\n    <tr>\n      <th>other: SI-SDR</th>\n      <td>1.656913</td>\n      <td>2.227863</td>\n      <td>4.426160</td>\n    </tr>\n    <tr>\n      <th>other: SI-SDRi</th>\n      <td>7.174239</td>\n      <td>7.324543</td>\n      <td>4.270892</td>\n    </tr>\n    <tr>\n      <th>vocals: SDR</th>\n      <td>6.075435</td>\n      <td>6.836668</td>\n      <td>5.958214</td>\n    </tr>\n    <tr>\n      <th>vocals: SI-SDR</th>\n      <td>4.647570</td>\n      <td>6.200620</td>\n      <td>8.634317</td>\n    </tr>\n    <tr>\n      <th>vocals: SI-SDRi</th>\n      <td>10.608473</td>\n      <td>11.030428</td>\n      <td>5.400393</td>\n    </tr>\n  </tbody>\n</table>\n</div>"
     },
     "metadata": {}
    },
    {
     "output_type": "display_data",
     "data": {
      "text/plain": "'ConvTasNet'"
     },
     "metadata": {}
    },
    {
     "output_type": "display_data",
     "data": {
      "text/plain": "                      mean     median   std dev\nbass: SDR         6.245008   6.693001  5.917041\nbass: SI-SDR      4.068171   5.672799  9.019312\nbass: SI-SDRi    11.071345  12.219177  6.626964\ndrums: SDR        7.559869   7.563258  4.011636\ndrums: SI-SDR     6.526681   6.769751  4.929581\ndrums: SI-SDRi   11.238143  11.658954  3.679415\nother: SDR        4.353640   4.488937  2.824071\nother: SI-SDR     1.773237   2.676800  4.983473\nother: SI-SDRi    7.290562   7.390878  4.541678\nvocals: SDR       6.293704   6.867305  4.972601\nvocals: SI-SDR    4.643061   6.223038  9.380578\nvocals: SI-SDRi  10.603964  11.215671  5.802657",
      "text/html": "<div>\n<style scoped>\n    .dataframe tbody tr th:only-of-type {\n        vertical-align: middle;\n    }\n\n    .dataframe tbody tr th {\n        vertical-align: top;\n    }\n\n    .dataframe thead th {\n        text-align: right;\n    }\n</style>\n<table border=\"1\" class=\"dataframe\">\n  <thead>\n    <tr style=\"text-align: right;\">\n      <th></th>\n      <th>mean</th>\n      <th>median</th>\n      <th>std dev</th>\n    </tr>\n  </thead>\n  <tbody>\n    <tr>\n      <th>bass: SDR</th>\n      <td>6.245008</td>\n      <td>6.693001</td>\n      <td>5.917041</td>\n    </tr>\n    <tr>\n      <th>bass: SI-SDR</th>\n      <td>4.068171</td>\n      <td>5.672799</td>\n      <td>9.019312</td>\n    </tr>\n    <tr>\n      <th>bass: SI-SDRi</th>\n      <td>11.071345</td>\n      <td>12.219177</td>\n      <td>6.626964</td>\n    </tr>\n    <tr>\n      <th>drums: SDR</th>\n      <td>7.559869</td>\n      <td>7.563258</td>\n      <td>4.011636</td>\n    </tr>\n    <tr>\n      <th>drums: SI-SDR</th>\n      <td>6.526681</td>\n      <td>6.769751</td>\n      <td>4.929581</td>\n    </tr>\n    <tr>\n      <th>drums: SI-SDRi</th>\n      <td>11.238143</td>\n      <td>11.658954</td>\n      <td>3.679415</td>\n    </tr>\n    <tr>\n      <th>other: SDR</th>\n      <td>4.353640</td>\n      <td>4.488937</td>\n      <td>2.824071</td>\n    </tr>\n    <tr>\n      <th>other: SI-SDR</th>\n      <td>1.773237</td>\n      <td>2.676800</td>\n      <td>4.983473</td>\n    </tr>\n    <tr>\n      <th>other: SI-SDRi</th>\n      <td>7.290562</td>\n      <td>7.390878</td>\n      <td>4.541678</td>\n    </tr>\n    <tr>\n      <th>vocals: SDR</th>\n      <td>6.293704</td>\n      <td>6.867305</td>\n      <td>4.972601</td>\n    </tr>\n    <tr>\n      <th>vocals: SI-SDR</th>\n      <td>4.643061</td>\n      <td>6.223038</td>\n      <td>9.380578</td>\n    </tr>\n    <tr>\n      <th>vocals: SI-SDRi</th>\n      <td>10.603964</td>\n      <td>11.215671</td>\n      <td>5.802657</td>\n    </tr>\n  </tbody>\n</table>\n</div>"
     },
     "metadata": {}
    },
    {
     "output_type": "display_data",
     "data": {
      "text/plain": "'Wave-U-Net'"
     },
     "metadata": {}
    },
    {
     "output_type": "display_data",
     "data": {
      "text/plain": "                     mean    median   std dev\nbass: SDR        2.512389  3.091650  6.071732\nbass: SI-SDR    -0.162730  0.566720  6.468393\nbass: SI-SDRi    6.840443  7.557735  4.312968\ndrums: SDR       3.912150  3.961964  3.797256\ndrums: SI-SDR    1.311155  1.819594  4.924104\ndrums: SI-SDRi   6.022617  6.568623  4.179983\nother: SDR       2.227695  2.251655  2.380516\nother: SI-SDR   -2.162498 -1.146460  5.002933\nother: SI-SDRi   3.354828  3.838635  4.108231\nvocals: SDR      3.856134  4.455277  5.169745\nvocals: SI-SDR   1.622919  3.090726  7.927899\nvocals: SI-SDRi  7.583822  7.740668  4.490457",
      "text/html": "<div>\n<style scoped>\n    .dataframe tbody tr th:only-of-type {\n        vertical-align: middle;\n    }\n\n    .dataframe tbody tr th {\n        vertical-align: top;\n    }\n\n    .dataframe thead th {\n        text-align: right;\n    }\n</style>\n<table border=\"1\" class=\"dataframe\">\n  <thead>\n    <tr style=\"text-align: right;\">\n      <th></th>\n      <th>mean</th>\n      <th>median</th>\n      <th>std dev</th>\n    </tr>\n  </thead>\n  <tbody>\n    <tr>\n      <th>bass: SDR</th>\n      <td>2.512389</td>\n      <td>3.091650</td>\n      <td>6.071732</td>\n    </tr>\n    <tr>\n      <th>bass: SI-SDR</th>\n      <td>-0.162730</td>\n      <td>0.566720</td>\n      <td>6.468393</td>\n    </tr>\n    <tr>\n      <th>bass: SI-SDRi</th>\n      <td>6.840443</td>\n      <td>7.557735</td>\n      <td>4.312968</td>\n    </tr>\n    <tr>\n      <th>drums: SDR</th>\n      <td>3.912150</td>\n      <td>3.961964</td>\n      <td>3.797256</td>\n    </tr>\n    <tr>\n      <th>drums: SI-SDR</th>\n      <td>1.311155</td>\n      <td>1.819594</td>\n      <td>4.924104</td>\n    </tr>\n    <tr>\n      <th>drums: SI-SDRi</th>\n      <td>6.022617</td>\n      <td>6.568623</td>\n      <td>4.179983</td>\n    </tr>\n    <tr>\n      <th>other: SDR</th>\n      <td>2.227695</td>\n      <td>2.251655</td>\n      <td>2.380516</td>\n    </tr>\n    <tr>\n      <th>other: SI-SDR</th>\n      <td>-2.162498</td>\n      <td>-1.146460</td>\n      <td>5.002933</td>\n    </tr>\n    <tr>\n      <th>other: SI-SDRi</th>\n      <td>3.354828</td>\n      <td>3.838635</td>\n      <td>4.108231</td>\n    </tr>\n    <tr>\n      <th>vocals: SDR</th>\n      <td>3.856134</td>\n      <td>4.455277</td>\n      <td>5.169745</td>\n    </tr>\n    <tr>\n      <th>vocals: SI-SDR</th>\n      <td>1.622919</td>\n      <td>3.090726</td>\n      <td>7.927899</td>\n    </tr>\n    <tr>\n      <th>vocals: SI-SDRi</th>\n      <td>7.583822</td>\n      <td>7.740668</td>\n      <td>4.490457</td>\n    </tr>\n  </tbody>\n</table>\n</div>"
     },
     "metadata": {}
    }
   ],
   "source": [
    "## How does this hold across sources?\n",
    "for name, df_dict in summary_source_data.items():\n",
    "    display(name)\n",
    "    to_concat = []\n",
    "    for source, df in df_dict.items():\n",
    "        values = df.loc[[\"SDR\", \"SI-SDR\", \"SI-SDRi\"]]\n",
    "        values.rename({\"SDR\": f\"{source}: SDR\",\n",
    "                       \"SI-SDR\": f\"{source}: SI-SDR\",\n",
    "                       \"SI-SDRi\": f\"{source}: SI-SDRi\"},\n",
    "                      inplace=True)\n",
    "        to_concat.append(values)\n",
    "    df_concat = pd.concat(to_concat)\n",
    "    display(df_concat)"
   ]
  },
  {
   "source": [
    "### Observations\n",
    "+ So while the above dataframes just seems like a bunch of numbers, the rankings of models should be noted. Notably, in the mean and median values for Vocal SDR, the ranking of models is: Conv-TasNet, Demucs, OpenUnmix, Wave-U-Net. This differs from the rankings of models on papers with code, where Conv-TasNet and Demucs are swapped. (This is also true for the Other source)\n",
    "+ The difference in mean Vocal SDR between Demucs and Conv-TasNet is .22, while in median, the difference is .03. This implies that there exists some outliers on the low end of SDR for Demucs"
   ],
   "cell_type": "markdown",
   "metadata": {}
  },
  {
   "source": [
    "## SAR"
   ],
   "cell_type": "markdown",
   "metadata": {}
  },
  {
   "cell_type": "code",
   "execution_count": 30,
   "metadata": {},
   "outputs": [
    {
     "output_type": "display_data",
     "data": {
      "text/plain": "'OpenUnmix'"
     },
     "metadata": {}
    },
    {
     "output_type": "display_data",
     "data": {
      "text/plain": "            mean    median   std dev\nSAR     7.176612  7.091356  1.560591\nSI-SAR  3.877729  4.443823  3.577261",
      "text/html": "<div>\n<style scoped>\n    .dataframe tbody tr th:only-of-type {\n        vertical-align: middle;\n    }\n\n    .dataframe tbody tr th {\n        vertical-align: top;\n    }\n\n    .dataframe thead th {\n        text-align: right;\n    }\n</style>\n<table border=\"1\" class=\"dataframe\">\n  <thead>\n    <tr style=\"text-align: right;\">\n      <th></th>\n      <th>mean</th>\n      <th>median</th>\n      <th>std dev</th>\n    </tr>\n  </thead>\n  <tbody>\n    <tr>\n      <th>SAR</th>\n      <td>7.176612</td>\n      <td>7.091356</td>\n      <td>1.560591</td>\n    </tr>\n    <tr>\n      <th>SI-SAR</th>\n      <td>3.877729</td>\n      <td>4.443823</td>\n      <td>3.577261</td>\n    </tr>\n  </tbody>\n</table>\n</div>"
     },
     "metadata": {}
    },
    {
     "output_type": "display_data",
     "data": {
      "text/plain": "'Demucs'"
     },
     "metadata": {}
    },
    {
     "output_type": "display_data",
     "data": {
      "text/plain": "            mean    median   std dev\nSAR     7.438870  7.487287  1.773577\nSI-SAR  4.852725  5.362100  3.249555",
      "text/html": "<div>\n<style scoped>\n    .dataframe tbody tr th:only-of-type {\n        vertical-align: middle;\n    }\n\n    .dataframe tbody tr th {\n        vertical-align: top;\n    }\n\n    .dataframe thead th {\n        text-align: right;\n    }\n</style>\n<table border=\"1\" class=\"dataframe\">\n  <thead>\n    <tr style=\"text-align: right;\">\n      <th></th>\n      <th>mean</th>\n      <th>median</th>\n      <th>std dev</th>\n    </tr>\n  </thead>\n  <tbody>\n    <tr>\n      <th>SAR</th>\n      <td>7.438870</td>\n      <td>7.487287</td>\n      <td>1.773577</td>\n    </tr>\n    <tr>\n      <th>SI-SAR</th>\n      <td>4.852725</td>\n      <td>5.362100</td>\n      <td>3.249555</td>\n    </tr>\n  </tbody>\n</table>\n</div>"
     },
     "metadata": {}
    },
    {
     "output_type": "display_data",
     "data": {
      "text/plain": "'ConvTasNet'"
     },
     "metadata": {}
    },
    {
     "output_type": "display_data",
     "data": {
      "text/plain": "            mean    median   std dev\nSAR     7.644756  7.803368  2.040657\nSI-SAR  5.018947  5.785666  3.989788",
      "text/html": "<div>\n<style scoped>\n    .dataframe tbody tr th:only-of-type {\n        vertical-align: middle;\n    }\n\n    .dataframe tbody tr th {\n        vertical-align: top;\n    }\n\n    .dataframe thead th {\n        text-align: right;\n    }\n</style>\n<table border=\"1\" class=\"dataframe\">\n  <thead>\n    <tr style=\"text-align: right;\">\n      <th></th>\n      <th>mean</th>\n      <th>median</th>\n      <th>std dev</th>\n    </tr>\n  </thead>\n  <tbody>\n    <tr>\n      <th>SAR</th>\n      <td>7.644756</td>\n      <td>7.803368</td>\n      <td>2.040657</td>\n    </tr>\n    <tr>\n      <th>SI-SAR</th>\n      <td>5.018947</td>\n      <td>5.785666</td>\n      <td>3.989788</td>\n    </tr>\n  </tbody>\n</table>\n</div>"
     },
     "metadata": {}
    },
    {
     "output_type": "display_data",
     "data": {
      "text/plain": "'Wave-U-Net'"
     },
     "metadata": {}
    },
    {
     "output_type": "display_data",
     "data": {
      "text/plain": "            mean    median   std dev\nSAR     5.130867  5.244051  1.396923\nSI-SAR  1.258896  1.834626  3.108180",
      "text/html": "<div>\n<style scoped>\n    .dataframe tbody tr th:only-of-type {\n        vertical-align: middle;\n    }\n\n    .dataframe tbody tr th {\n        vertical-align: top;\n    }\n\n    .dataframe thead th {\n        text-align: right;\n    }\n</style>\n<table border=\"1\" class=\"dataframe\">\n  <thead>\n    <tr style=\"text-align: right;\">\n      <th></th>\n      <th>mean</th>\n      <th>median</th>\n      <th>std dev</th>\n    </tr>\n  </thead>\n  <tbody>\n    <tr>\n      <th>SAR</th>\n      <td>5.130867</td>\n      <td>5.244051</td>\n      <td>1.396923</td>\n    </tr>\n    <tr>\n      <th>SI-SAR</th>\n      <td>1.258896</td>\n      <td>1.834626</td>\n      <td>3.108180</td>\n    </tr>\n  </tbody>\n</table>\n</div>"
     },
     "metadata": {}
    }
   ],
   "source": [
    "for name, df in summary_aggreggate_data.items():\n",
    "    display(name)\n",
    "    display(df.loc[[\"SAR\", \"SI-SAR\"]])"
   ]
  },
  {
   "cell_type": "code",
   "execution_count": null,
   "metadata": {},
   "outputs": [],
   "source": []
  }
 ]
}